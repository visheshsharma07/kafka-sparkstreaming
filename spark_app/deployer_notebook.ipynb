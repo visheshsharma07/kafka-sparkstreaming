{
 "cells": [
  {
   "cell_type": "code",
   "execution_count": null,
   "id": "8ab74e6d-9577-4347-9940-4252944326b9",
   "metadata": {},
   "outputs": [],
   "source": [
    "!  spark-submit --packages org.apache.spark:spark-sql-kafka-0-10_2.12:3.5.2 --master local[*] stream_ingest.py"
   ]
  },
  {
   "cell_type": "code",
   "execution_count": 1,
   "id": "d3a782b5-7b0d-4699-bf34-39d24bb7e51d",
   "metadata": {},
   "outputs": [
    {
     "name": "stderr",
     "output_type": "stream",
     "text": [
      "24/09/15 00:16:38 WARN Utils: Your hostname, mylaptop resolves to a loopback address: 127.0.1.1; using 172.17.151.144 instead (on interface eth0)\n",
      "24/09/15 00:16:38 WARN Utils: Set SPARK_LOCAL_IP if you need to bind to another address\n",
      "Setting default log level to \"WARN\".\n",
      "To adjust logging level use sc.setLogLevel(newLevel). For SparkR, use setLogLevel(newLevel).\n",
      "24/09/15 00:16:40 WARN NativeCodeLoader: Unable to load native-hadoop library for your platform... using builtin-java classes where applicable\n"
     ]
    }
   ],
   "source": [
    "from pyspark.sql import SparkSession\n",
    "from pyspark.sql.functions import from_json, col\n",
    "from pyspark.sql.types import StructType, StructField, StringType, IntegerType\n",
    "\n",
    "# Create Spark session\n",
    "spark = SparkSession.builder \\\n",
    "    .appName(\"Test Data\") \\\n",
    "    .getOrCreate()"
   ]
  },
  {
   "cell_type": "code",
   "execution_count": 2,
   "id": "3bc174e6-c91a-46a9-b08d-89cc2e7dcbc2",
   "metadata": {},
   "outputs": [
    {
     "name": "stderr",
     "output_type": "stream",
     "text": [
      "                                                                                \r"
     ]
    }
   ],
   "source": [
    "df = spark.read.parquet(\"./streaming_data/*.parquet\")"
   ]
  },
  {
   "cell_type": "code",
   "execution_count": 4,
   "id": "3f602a9f-1894-4f82-a1db-ce777ae3cf94",
   "metadata": {},
   "outputs": [
    {
     "name": "stdout",
     "output_type": "stream",
     "text": [
      "+------+\n",
      "|number|\n",
      "+------+\n",
      "|85    |\n",
      "|55    |\n",
      "|51    |\n",
      "|71    |\n",
      "|73    |\n",
      "|57    |\n",
      "|81    |\n",
      "|67    |\n",
      "|59    |\n",
      "|95    |\n",
      "+------+\n",
      "only showing top 10 rows\n",
      "\n"
     ]
    }
   ],
   "source": [
    "df.show(10,False)"
   ]
  },
  {
   "cell_type": "code",
   "execution_count": 5,
   "id": "e87d4289-708b-4191-9701-c634141d9465",
   "metadata": {},
   "outputs": [
    {
     "name": "stderr",
     "output_type": "stream",
     "text": [
      "                                                                                \r"
     ]
    },
    {
     "data": {
      "text/plain": [
       "644"
      ]
     },
     "execution_count": 5,
     "metadata": {},
     "output_type": "execute_result"
    }
   ],
   "source": [
    "df.count()"
   ]
  },
  {
   "cell_type": "code",
   "execution_count": null,
   "id": "17342822-ea40-4832-bd07-19ce1f50f205",
   "metadata": {},
   "outputs": [],
   "source": []
  }
 ],
 "metadata": {
  "kernelspec": {
   "display_name": "Python 3 (ipykernel)",
   "language": "python",
   "name": "python3"
  },
  "language_info": {
   "codemirror_mode": {
    "name": "ipython",
    "version": 3
   },
   "file_extension": ".py",
   "mimetype": "text/x-python",
   "name": "python",
   "nbconvert_exporter": "python",
   "pygments_lexer": "ipython3",
   "version": "3.11.7"
  }
 },
 "nbformat": 4,
 "nbformat_minor": 5
}
