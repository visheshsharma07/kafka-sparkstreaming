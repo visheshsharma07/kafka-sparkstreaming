{
 "cells": [
  {
   "cell_type": "code",
   "execution_count": 1,
   "id": "bc3a0b0f-e873-45e8-b7a6-a5cc7247d9fa",
   "metadata": {},
   "outputs": [],
   "source": [
    "import json\n",
    "import requests\n",
    "from kafka import KafkaProducer"
   ]
  },
  {
   "cell_type": "code",
   "execution_count": 2,
   "id": "269e9187-13c0-43a6-ac62-be5047953e55",
   "metadata": {},
   "outputs": [],
   "source": [
    "# Kafka configuration\n",
    "KAFKA_BROKER = 'localhost:9092'  # Adjust if your Kafka broker is on a different host/port\n",
    "TOPIC_NAME = 'random_number_topic'  # Replace with your Kafka topic name\n",
    "\n",
    "# Create a Kafka producer\n",
    "producer = KafkaProducer(\n",
    "    bootstrap_servers=[KAFKA_BROKER],\n",
    "    value_serializer=lambda v: json.dumps(v).encode('utf-8')  # Serialize JSON data\n",
    ")\n",
    "\n",
    "def ingest_stream():\n",
    "    \"\"\"Function to ingest JSON stream from Flask and send to Kafka.\"\"\"\n",
    "    url = 'http://localhost:3692/stream'  # URL of the Flask JSON stream\n",
    "    response = requests.get(url, stream=True)  # Stream the response\n",
    "\n",
    "    try:\n",
    "        for line in response.iter_lines():\n",
    "            if line:  # Check if the line is not empty\n",
    "                try:\n",
    "                    json_data = json.loads(line)  # Deserialize JSON\n",
    "                    producer.send(TOPIC_NAME, json_data)  # Send data to Kafka\n",
    "                    # print(f\"Sent to Kafka: {json_data}\")  # Optional: print the sent data\n",
    "                except json.JSONDecodeError as e:\n",
    "                    print(f\"JSON deserialization error: {e}\")\n",
    "                    continue\n",
    "    except Exception as e:\n",
    "        print(f\"Error while sending to Kafka: {e}\")\n",
    "    finally:\n",
    "        producer.close()  # Close the producer when done"
   ]
  },
  {
   "cell_type": "code",
   "execution_count": null,
   "id": "4c978ea7-2578-4f1e-80c3-db30f856ec5c",
   "metadata": {},
   "outputs": [],
   "source": [
    "if __name__ == '__main__':\n",
    "    ingest_stream()"
   ]
  },
  {
   "cell_type": "code",
   "execution_count": null,
   "id": "21c57703-61c5-4aa0-88eb-6c398a1481e3",
   "metadata": {},
   "outputs": [],
   "source": []
  }
 ],
 "metadata": {
  "kernelspec": {
   "display_name": "Python 3 (ipykernel)",
   "language": "python",
   "name": "python3"
  },
  "language_info": {
   "codemirror_mode": {
    "name": "ipython",
    "version": 3
   },
   "file_extension": ".py",
   "mimetype": "text/x-python",
   "name": "python",
   "nbconvert_exporter": "python",
   "pygments_lexer": "ipython3",
   "version": "3.11.7"
  }
 },
 "nbformat": 4,
 "nbformat_minor": 5
}
