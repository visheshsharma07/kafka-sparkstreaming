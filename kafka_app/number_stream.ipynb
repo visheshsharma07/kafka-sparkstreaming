{
 "cells": [
  {
   "cell_type": "code",
   "execution_count": 1,
   "id": "a9336892-31ac-4c3b-a0e4-9986d8c425e7",
   "metadata": {},
   "outputs": [],
   "source": [
    "from flask import Flask, Response\n",
    "import random\n",
    "import json\n",
    "import time"
   ]
  },
  {
   "cell_type": "code",
   "execution_count": 2,
   "id": "4d8334a1-153b-4236-b1ce-d867b56806dd",
   "metadata": {},
   "outputs": [],
   "source": [
    "app = Flask(__name__)\n",
    "\n",
    "def generate_json_stream():\n",
    "    \"\"\"Generator function to yield JSON objects.\"\"\"\n",
    "    while 1:  # Adjust the range for more objects\n",
    "        data = {'number': random.randint(50, 100)}\n",
    "        yield json.dumps(data) + '\\n'  # Yield a JSON object followed by a newline\n",
    "        time.sleep(1)  # Simulate delay for streaming\n",
    "\n",
    "@app.route('/stream')\n",
    "def stream():\n",
    "    \"\"\"Expose the JSON stream on the /stream endpoint.\"\"\"\n",
    "    return Response(generate_json_stream(), mimetype='application/json')"
   ]
  },
  {
   "cell_type": "code",
   "execution_count": null,
   "id": "a2233904-0871-45aa-89c4-bf1ef05f843e",
   "metadata": {},
   "outputs": [
    {
     "name": "stdout",
     "output_type": "stream",
     "text": [
      " * Serving Flask app '__main__'\n",
      " * Debug mode: off\n"
     ]
    },
    {
     "name": "stderr",
     "output_type": "stream",
     "text": [
      "WARNING: This is a development server. Do not use it in a production deployment. Use a production WSGI server instead.\n",
      " * Running on all addresses (0.0.0.0)\n",
      " * Running on http://127.0.0.1:3692\n",
      " * Running on http://172.17.151.144:3692\n",
      "Press CTRL+C to quit\n",
      "127.0.0.1 - - [14/Sep/2024 23:17:16] \"GET /stream HTTP/1.1\" 200 -\n",
      "127.0.0.1 - - [14/Sep/2024 23:17:52] \"GET /stream HTTP/1.1\" 200 -\n",
      "127.0.0.1 - - [14/Sep/2024 23:39:51] \"GET /stream HTTP/1.1\" 200 -\n"
     ]
    }
   ],
   "source": [
    "if __name__ == '__main__':\n",
    "    app.run(host='0.0.0.0', port=3692)"
   ]
  },
  {
   "cell_type": "code",
   "execution_count": null,
   "id": "34733381-10f9-4b43-8d5c-aad4d8942b32",
   "metadata": {},
   "outputs": [],
   "source": []
  }
 ],
 "metadata": {
  "kernelspec": {
   "display_name": "Python 3 (ipykernel)",
   "language": "python",
   "name": "python3"
  },
  "language_info": {
   "codemirror_mode": {
    "name": "ipython",
    "version": 3
   },
   "file_extension": ".py",
   "mimetype": "text/x-python",
   "name": "python",
   "nbconvert_exporter": "python",
   "pygments_lexer": "ipython3",
   "version": "3.11.7"
  }
 },
 "nbformat": 4,
 "nbformat_minor": 5
}
